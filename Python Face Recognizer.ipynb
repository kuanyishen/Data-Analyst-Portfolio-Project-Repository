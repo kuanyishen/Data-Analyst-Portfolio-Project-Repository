{
  "nbformat": 4,
  "nbformat_minor": 0,
  "metadata": {
    "colab": {
      "name": "ks3957 Homework2_AIP_Spring2022.ipynb",
      "provenance": [],
      "collapsed_sections": []
    },
    "kernelspec": {
      "name": "python3",
      "display_name": "Python 3"
    }
  },
  "cells": [
    {
      "cell_type": "markdown",
      "metadata": {
        "id": "Y5lEd_eghfNs"
      },
      "source": [
        "# Homework 2: Building ML Model to Classify Digits and Recognize Faces\n",
        "\n",
        "### Due Date : March 25, 2022, Friday, 11:59pm\n",
        "### 100 points\n",
        "\n",
        "In this Homework you will learn how to build classifiers to classify a given document or picture. There are 2 parts to the homework. In the first part you need to classify an image as one of the digits between 0 to 9. In the second part you need to classify the image to figure out who the person - a simple face detection engine . :-)\n",
        "\n",
        "\n",
        "![GIF](https://media.giphy.com/media/12808Jw2TSwE9O/giphy.gif)\n",
        "\n"
      ]
    },
    {
      "cell_type": "markdown",
      "metadata": {
        "id": "LakIuY5-4t-S"
      },
      "source": [
        "## Part 1  (50 points)\n",
        "### Recognizing Handwritten Digits\n",
        "\n",
        "We start with importing our libraries! We've also written a predict_random_image function to help us later on :-)"
      ]
    },
    {
      "cell_type": "markdown",
      "metadata": {
        "id": "9ncDSSL_5N9e"
      },
      "source": [
        "### Understanding Data\n",
        "\n",
        "Let's start with loading a very simple dataset! https://scikit-learn.org has libraries for us to do that. We will print:\n",
        "\n",
        "*   The number of input data samples, dimensionality of the input data\n",
        "*   The number of target samples for data (should match number of data samples)\n",
        "\n",
        "For example, for a 3x3 image, the dimensionality is 9.\n",
        "\n"
      ]
    },
    {
      "cell_type": "code",
      "source": [
        "import numpy as np\n",
        "import pandas as pd\n",
        "import matplotlib.pyplot as plt\n",
        "\n",
        "from sklearn.model_selection import train_test_split\n",
        "from sklearn.linear_model import LogisticRegression"
      ],
      "metadata": {
        "id": "bRlqDYI6Ectr"
      },
      "execution_count": 1,
      "outputs": []
    },
    {
      "cell_type": "code",
      "metadata": {
        "id": "Ye6e5UwChz5p"
      },
      "source": [
        "from sklearn.datasets import load_digits\n",
        "digits = load_digits()"
      ],
      "execution_count": 2,
      "outputs": []
    },
    {
      "cell_type": "markdown",
      "metadata": {
        "id": "s6SGxvkr5-b3"
      },
      "source": [
        "### Inspecting the Data (10 points)\n",
        "\n",
        "Let's take a look at the data! Plot the first 5 examples in our dataset and their training labels."
      ]
    },
    {
      "cell_type": "code",
      "source": [
        "data = digits.data\n",
        "targets = digits.target\n",
        "target_name = digits.target_names\n",
        "i=0\n",
        "while (i<5):\n",
        "  print(data[i])\n",
        "  print(targets[i])\n",
        "  print(target_name[i])\n",
        "  print(data[i].shape)\n",
        "  data_reshaped = np.reshape(data[i],(8,8))\n",
        "  print(data_reshaped)\n",
        "  plt.imshow(data_reshaped, cmap=plt.cm.pink)\n",
        "  plt.show()\n",
        "  i=i+1"
      ],
      "metadata": {
        "id": "Ze57Bpj8sEbN",
        "colab": {
          "base_uri": "https://localhost:8080/",
          "height": 1000
        },
        "outputId": "6f086ebb-546c-474c-da6f-bcedf29a3e2e"
      },
      "execution_count": 19,
      "outputs": [
        {
          "output_type": "stream",
          "name": "stdout",
          "text": [
            "[ 0.  0.  5. 13.  9.  1.  0.  0.  0.  0. 13. 15. 10. 15.  5.  0.  0.  3.\n",
            " 15.  2.  0. 11.  8.  0.  0.  4. 12.  0.  0.  8.  8.  0.  0.  5.  8.  0.\n",
            "  0.  9.  8.  0.  0.  4. 11.  0.  1. 12.  7.  0.  0.  2. 14.  5. 10. 12.\n",
            "  0.  0.  0.  0.  6. 13. 10.  0.  0.  0.]\n",
            "0\n",
            "0\n",
            "(64,)\n",
            "[[ 0.  0.  5. 13.  9.  1.  0.  0.]\n",
            " [ 0.  0. 13. 15. 10. 15.  5.  0.]\n",
            " [ 0.  3. 15.  2.  0. 11.  8.  0.]\n",
            " [ 0.  4. 12.  0.  0.  8.  8.  0.]\n",
            " [ 0.  5.  8.  0.  0.  9.  8.  0.]\n",
            " [ 0.  4. 11.  0.  1. 12.  7.  0.]\n",
            " [ 0.  2. 14.  5. 10. 12.  0.  0.]\n",
            " [ 0.  0.  6. 13. 10.  0.  0.  0.]]\n"
          ]
        },
        {
          "output_type": "display_data",
          "data": {
            "text/plain": [
              "<Figure size 432x288 with 1 Axes>"
            ],
            "image/png": "[encoded data removed]"
          },
          "metadata": {
            "needs_background": "light"
          }
        },
        {
          "output_type": "stream",
          "name": "stdout",
          "text": [
            "[ 0.  0.  0. 12. 13.  5.  0.  0.  0.  0.  0. 11. 16.  9.  0.  0.  0.  0.\n",
            "  3. 15. 16.  6.  0.  0.  0.  7. 15. 16. 16.  2.  0.  0.  0.  0.  1. 16.\n",
            " 16.  3.  0.  0.  0.  0.  1. 16. 16.  6.  0.  0.  0.  0.  1. 16. 16.  6.\n",
            "  0.  0.  0.  0.  0. 11. 16. 10.  0.  0.]\n",
            "1\n",
            "1\n",
            "(64,)\n",
            "[[ 0.  0.  0. 12. 13.  5.  0.  0.]\n",
            " [ 0.  0.  0. 11. 16.  9.  0.  0.]\n",
            " [ 0.  0.  3. 15. 16.  6.  0.  0.]\n",
            " [ 0.  7. 15. 16. 16.  2.  0.  0.]\n",
            " [ 0.  0.  1. 16. 16.  3.  0.  0.]\n",
            " [ 0.  0.  1. 16. 16.  6.  0.  0.]\n",
            " [ 0.  0.  1. 16. 16.  6.  0.  0.]\n",
            " [ 0.  0.  0. 11. 16. 10.  0.  0.]]\n"
          ]
        },
        {
          "output_type": "display_data",
          "data": {
            "text/plain": [
              "<Figure size 432x288 with 1 Axes>"
            ],
            "image/png": "[encoded data removed]"
          },
          "metadata": {
            "needs_background": "light"
          }
        },
        {
          "output_type": "stream",
          "name": "stdout",
          "text": [
            "[ 0.  0.  0.  4. 15. 12.  0.  0.  0.  0.  3. 16. 15. 14.  0.  0.  0.  0.\n",
            "  8. 13.  8. 16.  0.  0.  0.  0.  1.  6. 15. 11.  0.  0.  0.  1.  8. 13.\n",
            " 15.  1.  0.  0.  0.  9. 16. 16.  5.  0.  0.  0.  0.  3. 13. 16. 16. 11.\n",
            "  5.  0.  0.  0.  0.  3. 11. 16.  9.  0.]\n",
            "2\n",
            "2\n",
            "(64,)\n",
            "[[ 0.  0.  0.  4. 15. 12.  0.  0.]\n",
            " [ 0.  0.  3. 16. 15. 14.  0.  0.]\n",
            " [ 0.  0.  8. 13.  8. 16.  0.  0.]\n",
            " [ 0.  0.  1.  6. 15. 11.  0.  0.]\n",
            " [ 0.  1.  8. 13. 15.  1.  0.  0.]\n",
            " [ 0.  9. 16. 16.  5.  0.  0.  0.]\n",
            " [ 0.  3. 13. 16. 16. 11.  5.  0.]\n",
            " [ 0.  0.  0.  3. 11. 16.  9.  0.]]\n"
          ]
        },
        {
          "output_type": "display_data",
          "data": {
            "text/plain": [
              "<Figure size 432x288 with 1 Axes>"
            ],
            "image/png": "[encoded data removed]"
          },
          "metadata": {
            "needs_background": "light"
          }
        },
        {
          "output_type": "stream",
          "name": "stdout",
          "text": [
            "[ 0.  0.  7. 15. 13.  1.  0.  0.  0.  8. 13.  6. 15.  4.  0.  0.  0.  2.\n",
            "  1. 13. 13.  0.  0.  0.  0.  0.  2. 15. 11.  1.  0.  0.  0.  0.  0.  1.\n",
            " 12. 12.  1.  0.  0.  0.  0.  0.  1. 10.  8.  0.  0.  0.  8.  4.  5. 14.\n",
            "  9.  0.  0.  0.  7. 13. 13.  9.  0.  0.]\n",
            "3\n",
            "3\n",
            "(64,)\n",
            "[[ 0.  0.  7. 15. 13.  1.  0.  0.]\n",
            " [ 0.  8. 13.  6. 15.  4.  0.  0.]\n",
            " [ 0.  2.  1. 13. 13.  0.  0.  0.]\n",
            " [ 0.  0.  2. 15. 11.  1.  0.  0.]\n",
            " [ 0.  0.  0.  1. 12. 12.  1.  0.]\n",
            " [ 0.  0.  0.  0.  1. 10.  8.  0.]\n",
            " [ 0.  0.  8.  4.  5. 14.  9.  0.]\n",
            " [ 0.  0.  7. 13. 13.  9.  0.  0.]]\n"
          ]
        },
        {
          "output_type": "display_data",
          "data": {
            "text/plain": [
              "<Figure size 432x288 with 1 Axes>"
            ],
            "image/png": "[encoded data removed]"
          },
          "metadata": {
            "needs_background": "light"
          }
        },
        {
          "output_type": "stream",
          "name": "stdout",
          "text": [
            "[ 0.  0.  0.  1. 11.  0.  0.  0.  0.  0.  0.  7.  8.  0.  0.  0.  0.  0.\n",
            "  1. 13.  6.  2.  2.  0.  0.  0.  7. 15.  0.  9.  8.  0.  0.  5. 16. 10.\n",
            "  0. 16.  6.  0.  0.  4. 15. 16. 13. 16.  1.  0.  0.  0.  0.  3. 15. 10.\n",
            "  0.  0.  0.  0.  0.  2. 16.  4.  0.  0.]\n",
            "4\n",
            "4\n",
            "(64,)\n",
            "[[ 0.  0.  0.  1. 11.  0.  0.  0.]\n",
            " [ 0.  0.  0.  7.  8.  0.  0.  0.]\n",
            " [ 0.  0.  1. 13.  6.  2.  2.  0.]\n",
            " [ 0.  0.  7. 15.  0.  9.  8.  0.]\n",
            " [ 0.  5. 16. 10.  0. 16.  6.  0.]\n",
            " [ 0.  4. 15. 16. 13. 16.  1.  0.]\n",
            " [ 0.  0.  0.  3. 15. 10.  0.  0.]\n",
            " [ 0.  0.  0.  2. 16.  4.  0.  0.]]\n"
          ]
        },
        {
          "output_type": "display_data",
          "data": {
            "text/plain": [
              "<Figure size 432x288 with 1 Axes>"
            ],
            "image/png": "[encoded data removed]"
          },
          "metadata": {
            "needs_background": "light"
          }
        }
      ]
    },
    {
      "cell_type": "markdown",
      "metadata": {
        "id": "ULjCi7Be6RUE"
      },
      "source": [
        "### Create Train Test Split  (10 points)\n",
        "\n",
        "Split data to create training and testing data.  "
      ]
    },
    {
      "cell_type": "code",
      "source": [
        "X1_train, X1_test, Y1_train, Y1_test = train_test_split(data, targets,test_size=0.2)\n",
        "\n",
        "X1_train[0].shape"
      ],
      "metadata": {
        "id": "bktVsT6TfHZT",
        "colab": {
          "base_uri": "https://localhost:8080/"
        },
        "outputId": "a44bcb7c-0ad7-4140-9087-ab9ef5cd8e5c"
      },
      "execution_count": 6,
      "outputs": [
        {
          "output_type": "execute_result",
          "data": {
            "text/plain": [
              "(64,)"
            ]
          },
          "metadata": {},
          "execution_count": 6
        }
      ]
    },
    {
      "cell_type": "code",
      "source": [
        "Y1_train[0]"
      ],
      "metadata": {
        "colab": {
          "base_uri": "https://localhost:8080/"
        },
        "id": "bsEqUaUTH2Mf",
        "outputId": "9daeffcc-53df-43f3-a761-8b16d5e94249"
      },
      "execution_count": 7,
      "outputs": [
        {
          "output_type": "execute_result",
          "data": {
            "text/plain": [
              "3"
            ]
          },
          "metadata": {},
          "execution_count": 7
        }
      ]
    },
    {
      "cell_type": "markdown",
      "metadata": {
        "id": "TI4PfdPPOfn4"
      },
      "source": [
        "### Build Model (10 points)\n",
        "Use the training data to train a model! You can use logistic regression a simple classifier or any other classifier of your choice. "
      ]
    },
    {
      "cell_type": "code",
      "source": [
        "logisticReg = LogisticRegression(max_iter=10000)\n",
        "logisticReg.fit(X1_train, Y1_train)"
      ],
      "metadata": {
        "id": "yHyjAh4ZfIuh",
        "colab": {
          "base_uri": "https://localhost:8080/"
        },
        "outputId": "523b081b-53f1-4f16-8ff3-b7fc4e6075b6"
      },
      "execution_count": 8,
      "outputs": [
        {
          "output_type": "execute_result",
          "data": {
            "text/plain": [
              "LogisticRegression(max_iter=10000)"
            ]
          },
          "metadata": {},
          "execution_count": 8
        }
      ]
    },
    {
      "cell_type": "markdown",
      "metadata": {
        "id": "LB_cMAij7A9s"
      },
      "source": [
        "### Evaluate  (10 points)\n",
        "\n",
        "Report the accuracy of the model on test set "
      ]
    },
    {
      "cell_type": "code",
      "source": [
        "logisticReg.score(X1_test, Y1_test)"
      ],
      "metadata": {
        "id": "7KlumfENfJaL",
        "colab": {
          "base_uri": "https://localhost:8080/"
        },
        "outputId": "c00a5e59-45e7-43b9-c33a-50dd7c1c9183"
      },
      "execution_count": 9,
      "outputs": [
        {
          "output_type": "execute_result",
          "data": {
            "text/plain": [
              "0.9694444444444444"
            ]
          },
          "metadata": {},
          "execution_count": 9
        }
      ]
    },
    {
      "cell_type": "markdown",
      "metadata": {
        "id": "nXJ37CpRN9Rr"
      },
      "source": [
        "### Predict (10 points)\n",
        "\n",
        "Predict a label for a random image from unseen test data set"
      ]
    },
    {
      "cell_type": "code",
      "source": [
        "import random\n",
        "import math\n",
        "\n",
        "i = math.ceil(random.random()* X1_test.shape[0]) \n",
        "test_data=X1_test[i]\n",
        "print(test_data)\n",
        "test_data_reshaped = np.reshape(test_data, (8, 8))\n",
        "plt.imshow(test_data_reshaped,cmap=plt.cm.pink)"
      ],
      "metadata": {
        "id": "LvOR50RofK_J",
        "colab": {
          "base_uri": "https://localhost:8080/",
          "height": 351
        },
        "outputId": "bb23c0b7-d2c6-4596-fcb2-71a80bc27c0f"
      },
      "execution_count": 20,
      "outputs": [
        {
          "output_type": "stream",
          "name": "stdout",
          "text": [
            "[ 0.  0.  2. 16. 10.  1.  0.  0.  0.  0.  7. 16. 16. 12.  0.  0.  0.  0.\n",
            "  3. 16. 16. 15.  0.  0.  0.  0.  2. 16. 14.  0.  0.  0.  0.  0.  8. 15.\n",
            " 16.  6.  0.  0.  0.  0. 13.  8.  9. 13.  0.  0.  0.  0. 12. 10.  7. 16.\n",
            "  0.  0.  0.  0.  3. 13. 15. 10.  0.  0.]\n"
          ]
        },
        {
          "output_type": "execute_result",
          "data": {
            "text/plain": [
              "<matplotlib.image.AxesImage at 0x7fb2e8ec83d0>"
            ]
          },
          "metadata": {},
          "execution_count": 20
        },
        {
          "output_type": "display_data",
          "data": {
            "text/plain": [
              "<Figure size 432x288 with 1 Axes>"
            ],
            "image/png": "[encoded data removed]"
          },
          "metadata": {
            "needs_background": "light"
          }
        }
      ]
    },
    {
      "cell_type": "code",
      "source": [
        "test_data_reshaped_for_predict = np.reshape(test_data, (1,64))\n",
        "pred_lable_val_test_data = logisticReg.predict(test_data_reshaped_for_predict)\n",
        "print(pred_lable_val_test_data)"
      ],
      "metadata": {
        "colab": {
          "base_uri": "https://localhost:8080/"
        },
        "id": "L5PPG0KvJfeX",
        "outputId": "b9d90551-016b-45e8-f3c4-e45d3bfd08a2"
      },
      "execution_count": 21,
      "outputs": [
        {
          "output_type": "stream",
          "name": "stdout",
          "text": [
            "[8]\n"
          ]
        }
      ]
    },
    {
      "cell_type": "code",
      "source": [
        "pred_name = digits.target_names[pred_lable_val_test_data]\n",
        "print(pred_name)"
      ],
      "metadata": {
        "colab": {
          "base_uri": "https://localhost:8080/"
        },
        "id": "WUfCybq4Jh4H",
        "outputId": "f98fe459-e4f2-48b5-ca8b-b26d0375cc65"
      },
      "execution_count": 22,
      "outputs": [
        {
          "output_type": "stream",
          "name": "stdout",
          "text": [
            "[8]\n"
          ]
        }
      ]
    },
    {
      "cell_type": "markdown",
      "metadata": {
        "id": "1A41j2Ju9peC"
      },
      "source": [
        "## Part 2 (50 points)\n",
        "### Labeled Faces\n",
        "\n",
        "This part of homework is almost the same as the classwork we did, except you have to build 3 different classifers and report accuracy on 3 different types of model. We will build a classifier to label famous faces! We want to import the LFW data from sklearn and view the first 4 samples of the dataset with their labels."
      ]
    },
    {
      "cell_type": "markdown",
      "metadata": {
        "id": "kJsyRwXWO2-g"
      },
      "source": [
        "###Understanding Data"
      ]
    },
    {
      "cell_type": "code",
      "metadata": {
        "id": "LOzL6cvcqzk5"
      },
      "source": [
        "from sklearn.datasets import fetch_lfw_people\n",
        "\n",
        "lfw_people = fetch_lfw_people(min_faces_per_person=70, resize=0.4)\n"
      ],
      "execution_count": 24,
      "outputs": []
    },
    {
      "cell_type": "markdown",
      "metadata": {
        "id": "wzrPVeTPO9XV"
      },
      "source": [
        "### Inspecting the Data (5 points)\n",
        "Plot a few images"
      ]
    },
    {
      "cell_type": "code",
      "source": [
        "for name in lfw_people.target_names:\n",
        "  print(name)\n",
        "  "
      ],
      "metadata": {
        "colab": {
          "base_uri": "https://localhost:8080/"
        },
        "id": "G_fzqOCsfTVA",
        "outputId": "0934f10d-252e-42e3-852f-52573646a8c1"
      },
      "execution_count": 25,
      "outputs": [
        {
          "output_type": "stream",
          "name": "stdout",
          "text": [
            "Ariel Sharon\n",
            "Colin Powell\n",
            "Donald Rumsfeld\n",
            "George W Bush\n",
            "Gerhard Schroeder\n",
            "Hugo Chavez\n",
            "Tony Blair\n"
          ]
        }
      ]
    },
    {
      "cell_type": "code",
      "source": [
        "data =lfw_people.data\n",
        "targets =lfw_people.target\n",
        "target_names = lfw_people.target_names\n",
        "i=0\n",
        "while (i<6):\n",
        "  print(data[i])\n",
        "  print(targets[i])\n",
        "  print(target_name[i])\n",
        "  print(data[i].shape)\n",
        "  data_reshaped = np.reshape(data[i],(50,37))\n",
        "  print(data_reshaped)\n",
        "  plt.imshow(data_reshaped, cmap=plt.cm.pink)\n",
        "  plt.show()\n",
        "  i=i+1"
      ],
      "metadata": {
        "colab": {
          "base_uri": "https://localhost:8080/",
          "height": 1000
        },
        "id": "jYiKM-1UJ9sS",
        "outputId": "d3a2e163-e116-45d7-f3df-a3e6655db41e"
      },
      "execution_count": 26,
      "outputs": [
        {
          "output_type": "stream",
          "name": "stdout",
          "text": [
            "[254.       254.       251.66667  ...  87.333336  88.666664  86.666664]\n",
            "5\n",
            "0\n",
            "(1850,)\n",
            "[[254.       254.       251.66667  ...  65.333336  50.666668  40.333332]\n",
            " [253.33333  251.33333  247.33333  ...  66.666664  52.        42.666668]\n",
            " [240.66667  231.66667  211.66667  ...  62.        49.        42.      ]\n",
            " ...\n",
            " [ 74.333336  54.        31.666666 ...  97.666664  93.        90.      ]\n",
            " [ 65.333336  47.        30.333334 ...  91.666664  92.        86.333336]\n",
            " [ 59.333332  44.333332  32.333332 ...  87.333336  88.666664  86.666664]]\n"
          ]
        },
        {
          "output_type": "display_data",
          "data": {
            "text/plain": [
              "<Figure size 432x288 with 1 Axes>"
            ],
            "image/png": "[encoded data removed]"
          },
          "metadata": {
            "needs_background": "light"
          }
        },
        {
          "output_type": "stream",
          "name": "stdout",
          "text": [
            "[ 39.666668  50.333332  47.       ... 117.666664 115.       133.66667 ]\n",
            "6\n",
            "1\n",
            "(1850,)\n",
            "[[ 39.666668  50.333332  47.       ...  61.333332  51.        38.666668]\n",
            " [ 47.666668  63.        65.333336 ...  57.666668  55.        44.666668]\n",
            " [ 55.333332  76.666664  86.333336 ...  71.        48.333332  43.666668]\n",
            " ...\n",
            " [ 73.666664  75.666664  75.333336 ... 125.666664 119.666664 115.333336]\n",
            " [ 75.333336  76.333336  77.       ... 124.       116.       116.333336]\n",
            " [ 77.333336  76.333336  75.666664 ... 117.666664 115.       133.66667 ]]\n"
          ]
        },
        {
          "output_type": "display_data",
          "data": {
            "text/plain": [
              "<Figure size 432x288 with 1 Axes>"
            ],
            "image/png": "[encoded data removed]"
          },
          "metadata": {
            "needs_background": "light"
          }
        },
        {
          "output_type": "stream",
          "name": "stdout",
          "text": [
            "[ 89.333336 104.       126.       ... 175.33333  183.33333  183.      ]\n",
            "3\n",
            "2\n",
            "(1850,)\n",
            "[[ 89.333336 104.       126.       ... 150.       150.33333  149.      ]\n",
            " [100.       128.       143.66667  ... 159.33333  151.33333  147.33333 ]\n",
            " [123.666664 142.66667  146.66667  ... 161.       152.66667  147.33333 ]\n",
            " ...\n",
            " [ 75.666664  73.666664  74.       ... 123.       168.66667  179.      ]\n",
            " [ 73.        68.666664  69.333336 ... 150.       182.       181.33333 ]\n",
            " [ 78.666664  66.        65.666664 ... 175.33333  183.33333  183.      ]]\n"
          ]
        },
        {
          "output_type": "display_data",
          "data": {
            "text/plain": [
              "<Figure size 432x288 with 1 Axes>"
            ],
            "image/png": "[encoded data removed]"
          },
          "metadata": {
            "needs_background": "light"
          }
        },
        {
          "output_type": "stream",
          "name": "stdout",
          "text": [
            "[16.666666   7.6666665  7.        ... 27.666666  38.        51.333332 ]\n",
            "1\n",
            "3\n",
            "(1850,)\n",
            "[[ 16.666666    7.6666665   7.        ...   7.          6.3333335\n",
            "    5.6666665]\n",
            " [ 70.         36.666668   14.        ...   7.3333335   5.6666665\n",
            "    5.3333335]\n",
            " [128.         99.333336   61.666668  ...   8.          5.3333335\n",
            "    4.3333335]\n",
            " ...\n",
            " [111.666664  103.333336   86.333336  ...  37.333332   50.333332\n",
            "   64.666664 ]\n",
            " [ 87.         79.666664   71.666664  ...  30.         42.333332\n",
            "   55.666668 ]\n",
            " [ 70.333336   63.333332   59.        ...  27.666666   38.\n",
            "   51.333332 ]]\n"
          ]
        },
        {
          "output_type": "display_data",
          "data": {
            "text/plain": [
              "<Figure size 432x288 with 1 Axes>"
            ],
            "image/png": "[encoded data removed]"
          },
          "metadata": {
            "needs_background": "light"
          }
        },
        {
          "output_type": "stream",
          "name": "stdout",
          "text": [
            "[122.666664 121.       126.666664 ...  22.        61.666668  70.666664]\n",
            "0\n",
            "4\n",
            "(1850,)\n",
            "[[122.666664 121.       126.666664 ...  69.        61.666668  58.      ]\n",
            " [121.666664 117.666664 125.333336 ...  72.666664  63.666668  58.      ]\n",
            " [121.       117.666664 125.       ...  78.333336  67.333336  59.333332]\n",
            " ...\n",
            " [ 18.666666  16.666666  21.333334 ...  10.        18.333334  30.      ]\n",
            " [ 20.333334  19.666666  14.333333 ...  17.333334  45.666668  53.666668]\n",
            " [ 20.333334  21.        19.666666 ...  22.        61.666668  70.666664]]\n"
          ]
        },
        {
          "output_type": "display_data",
          "data": {
            "text/plain": [
              "<Figure size 432x288 with 1 Axes>"
            ],
            "image/png": "[encoded data removed]"
          },
          "metadata": {
            "needs_background": "light"
          }
        },
        {
          "output_type": "stream",
          "name": "stdout",
          "text": [
            "[ 65.333336  74.333336  80.       ...  64.        83.       110.333336]\n",
            "1\n",
            "5\n",
            "(1850,)\n",
            "[[ 65.333336  74.333336  80.       ... 199.       172.33333  137.66667 ]\n",
            " [ 71.333336  76.        80.333336 ... 198.66667  180.66667  142.      ]\n",
            " [ 74.        77.666664  83.333336 ... 191.       188.33333  153.66667 ]\n",
            " ...\n",
            " [ 61.333332 134.66667  169.66667  ...  76.666664  99.333336 112.333336]\n",
            " [ 26.666666  88.333336 161.       ...  68.       101.666664 115.      ]\n",
            " [ 16.666666  47.       137.66667  ...  64.        83.       110.333336]]\n"
          ]
        },
        {
          "output_type": "display_data",
          "data": {
            "text/plain": [
              "<Figure size 432x288 with 1 Axes>"
            ],
            "image/png": "[encoded data removed]"
          },
          "metadata": {
            "needs_background": "light"
          }
        }
      ]
    },
    {
      "cell_type": "markdown",
      "metadata": {
        "id": "8q4TN6p-PI_B"
      },
      "source": [
        "### Create Train and Test Split (5 points)\n",
        "Create the training and testing data set"
      ]
    },
    {
      "cell_type": "code",
      "source": [
        "X2_train, X2_test, Y2_train, Y2_test = train_test_split(data, targets, test_size=0.3)\n",
        "\n",
        "X2_train[0].shape"
      ],
      "metadata": {
        "id": "0TK2wYVkgJ0r",
        "colab": {
          "base_uri": "https://localhost:8080/"
        },
        "outputId": "1d334841-c65c-4c1f-e80e-c522012afff6"
      },
      "execution_count": 27,
      "outputs": [
        {
          "output_type": "execute_result",
          "data": {
            "text/plain": [
              "(1850,)"
            ]
          },
          "metadata": {},
          "execution_count": 27
        }
      ]
    },
    {
      "cell_type": "code",
      "source": [
        "Y2_train[0]"
      ],
      "metadata": {
        "colab": {
          "base_uri": "https://localhost:8080/"
        },
        "id": "rj2XOjiLKXGS",
        "outputId": "22bdb257-6ea3-46b4-a78e-82c414c0e568"
      },
      "execution_count": 28,
      "outputs": [
        {
          "output_type": "execute_result",
          "data": {
            "text/plain": [
              "5"
            ]
          },
          "metadata": {},
          "execution_count": 28
        }
      ]
    },
    {
      "cell_type": "markdown",
      "metadata": {
        "id": "WAxnIecuPN7i"
      },
      "source": [
        "### Build the Model (20 points)\n",
        "Choose three different types of classifier. More info in scikit-learn website. Try to get to more than 50% in accuracy. Now, you should pick at least 3 different models to implement from: https://scikit-learn.org/stable/supervised_learning.html#supervised-learning."
      ]
    },
    {
      "cell_type": "markdown",
      "source": [
        "Model 1"
      ],
      "metadata": {
        "id": "ednHB1ULKeyA"
      }
    },
    {
      "cell_type": "code",
      "source": [
        "logisticReg = LogisticRegression(max_iter=10000)\n",
        "logisticReg.fit(X2_train, Y2_train)"
      ],
      "metadata": {
        "id": "u7qyiI18hBv-",
        "colab": {
          "base_uri": "https://localhost:8080/"
        },
        "outputId": "837ceb3d-9321-4d5c-e1ea-eab2d328ce72"
      },
      "execution_count": 29,
      "outputs": [
        {
          "output_type": "execute_result",
          "data": {
            "text/plain": [
              "LogisticRegression(max_iter=10000)"
            ]
          },
          "metadata": {},
          "execution_count": 29
        }
      ]
    },
    {
      "cell_type": "markdown",
      "source": [
        "Model 2"
      ],
      "metadata": {
        "id": "7opVs_onOIF9"
      }
    },
    {
      "cell_type": "code",
      "source": [
        "from sklearn.neighbors import KNeighborsClassifier\n",
        "KNClass = KNeighborsClassifier()\n",
        "KNClass.fit(X2_train, Y2_train)"
      ],
      "metadata": {
        "colab": {
          "base_uri": "https://localhost:8080/"
        },
        "id": "CveX5S8ZL_hC",
        "outputId": "06a595a8-f644-44ea-ef3d-120225af5822"
      },
      "execution_count": 45,
      "outputs": [
        {
          "output_type": "execute_result",
          "data": {
            "text/plain": [
              "KNeighborsClassifier()"
            ]
          },
          "metadata": {},
          "execution_count": 45
        }
      ]
    },
    {
      "cell_type": "markdown",
      "source": [
        "Model 3"
      ],
      "metadata": {
        "id": "JLJuqQtLOPHT"
      }
    },
    {
      "cell_type": "code",
      "source": [
        "from sklearn.svm import SVC\n",
        "svcClass = SVC()\n",
        "svcClass.fit(X2_train, Y2_train)"
      ],
      "metadata": {
        "colab": {
          "base_uri": "https://localhost:8080/"
        },
        "id": "Q_xmDNBXNGPs",
        "outputId": "14f6e9f8-4661-4539-ae23-47af0f1fc930"
      },
      "execution_count": 34,
      "outputs": [
        {
          "output_type": "execute_result",
          "data": {
            "text/plain": [
              "SVC()"
            ]
          },
          "metadata": {},
          "execution_count": 34
        }
      ]
    },
    {
      "cell_type": "markdown",
      "metadata": {
        "id": "2PB_gnF3PW5O"
      },
      "source": [
        "###Evaluate (10 points)\n",
        "Evaluate the model and report accuracy for all 3 models "
      ]
    },
    {
      "cell_type": "markdown",
      "source": [
        "Model 1"
      ],
      "metadata": {
        "id": "Bqy-OemrORLM"
      }
    },
    {
      "cell_type": "code",
      "source": [
        "logisticReg.score(X2_test, Y2_test)"
      ],
      "metadata": {
        "id": "dmDue7nZhKu3",
        "colab": {
          "base_uri": "https://localhost:8080/"
        },
        "outputId": "2bb421f2-0318-4de8-908e-075be3afa59b"
      },
      "execution_count": 35,
      "outputs": [
        {
          "output_type": "execute_result",
          "data": {
            "text/plain": [
              "0.8423772609819121"
            ]
          },
          "metadata": {},
          "execution_count": 35
        }
      ]
    },
    {
      "cell_type": "markdown",
      "source": [
        "Model 2"
      ],
      "metadata": {
        "id": "x7xOFWSjOTC4"
      }
    },
    {
      "cell_type": "code",
      "source": [
        "KNN_model.score(X2_test, Y2_test)"
      ],
      "metadata": {
        "colab": {
          "base_uri": "https://localhost:8080/"
        },
        "id": "6wwJA_3UNNMf",
        "outputId": "e4c68a1c-ffa3-4e13-8bfc-1e231cacbaa9"
      },
      "execution_count": 36,
      "outputs": [
        {
          "output_type": "execute_result",
          "data": {
            "text/plain": [
              "0.5891472868217055"
            ]
          },
          "metadata": {},
          "execution_count": 36
        }
      ]
    },
    {
      "cell_type": "markdown",
      "source": [
        "Model 3"
      ],
      "metadata": {
        "id": "mKaQzohWOU3z"
      }
    },
    {
      "cell_type": "code",
      "source": [
        "svcClass.score(X2_test, Y2_test)"
      ],
      "metadata": {
        "colab": {
          "base_uri": "https://localhost:8080/"
        },
        "id": "zFDy7ZaINavu",
        "outputId": "4eaa627b-9646-46af-8d38-59b5a86a245b"
      },
      "execution_count": 37,
      "outputs": [
        {
          "output_type": "execute_result",
          "data": {
            "text/plain": [
              "0.7545219638242894"
            ]
          },
          "metadata": {},
          "execution_count": 37
        }
      ]
    },
    {
      "cell_type": "markdown",
      "metadata": {
        "id": "dz0bAp-HPFew"
      },
      "source": [
        "### Predict (10 points)\n",
        "Test the model in any random image from test set. Display the image and the prediction using all 3 models"
      ]
    },
    {
      "cell_type": "code",
      "source": [
        "i = math.ceil(random.random()* X2_test.shape[0]) \n",
        "\n",
        "test_data=X2_test[i]\n",
        "print(test_data)\n",
        "test_data_reshaped = np.reshape(test_data, (50, 37))\n",
        "plt.imshow(test_data_reshaped,cmap=plt.cm.pink)"
      ],
      "metadata": {
        "id": "66BJhhmEhLnw",
        "colab": {
          "base_uri": "https://localhost:8080/",
          "height": 301
        },
        "outputId": "75215d02-e368-48a9-a55a-2574b223efff"
      },
      "execution_count": 46,
      "outputs": [
        {
          "output_type": "stream",
          "name": "stdout",
          "text": [
            "[164.33333  142.66667  126.666664 ...  33.        38.666668  43.      ]\n"
          ]
        },
        {
          "output_type": "execute_result",
          "data": {
            "text/plain": [
              "<matplotlib.image.AxesImage at 0x7fb2e5d488d0>"
            ]
          },
          "metadata": {},
          "execution_count": 46
        },
        {
          "output_type": "display_data",
          "data": {
            "text/plain": [
              "<Figure size 432x288 with 1 Axes>"
            ],
            "image/png": "[encoded data removed]"
          },
          "metadata": {
            "needs_background": "light"
          }
        }
      ]
    },
    {
      "cell_type": "markdown",
      "source": [
        "Model 1"
      ],
      "metadata": {
        "id": "XuxWpBtiOnhh"
      }
    },
    {
      "cell_type": "code",
      "source": [
        "test_data_reshaped_for_predict = np.reshape(test_data, (1,1850))\n",
        "pred_lable_val_test_data = logisticReg.predict(test_data_reshaped_for_predict)\n",
        "print(pred_lable_val_test_data)"
      ],
      "metadata": {
        "colab": {
          "base_uri": "https://localhost:8080/"
        },
        "id": "fAKEPa2hNknm",
        "outputId": "a8fe1fee-2759-40a9-bb1d-3100014373c6"
      },
      "execution_count": 47,
      "outputs": [
        {
          "output_type": "stream",
          "name": "stdout",
          "text": [
            "[1]\n"
          ]
        }
      ]
    },
    {
      "cell_type": "code",
      "source": [
        "pred_name = lfw_people.target_names[pred_lable_val_test_data]\n",
        "print(pred_name)"
      ],
      "metadata": {
        "colab": {
          "base_uri": "https://localhost:8080/"
        },
        "id": "2qIK14dPNlqM",
        "outputId": "a2b1b5f9-7dcb-4a20-bc96-f1dbb4965efb"
      },
      "execution_count": 48,
      "outputs": [
        {
          "output_type": "stream",
          "name": "stdout",
          "text": [
            "['Colin Powell']\n"
          ]
        }
      ]
    },
    {
      "cell_type": "markdown",
      "source": [
        "Model 2"
      ],
      "metadata": {
        "id": "HRpPvcA1OpAh"
      }
    },
    {
      "cell_type": "code",
      "source": [
        "test_data_reshaped_for_predict = np.reshape(test_data, (1,1850))\n",
        "pred_lable_val_test_data = KNClass.predict(test_data_reshaped_for_predict)\n",
        "print(pred_lable_val_test_data)"
      ],
      "metadata": {
        "colab": {
          "base_uri": "https://localhost:8080/"
        },
        "id": "QJiy1lWpNpcs",
        "outputId": "abca0471-7c08-425e-beaa-bf08d6611dae"
      },
      "execution_count": 49,
      "outputs": [
        {
          "output_type": "stream",
          "name": "stdout",
          "text": [
            "[1]\n"
          ]
        }
      ]
    },
    {
      "cell_type": "code",
      "source": [
        "pred_name = lfw_people.target_names[pred_lable_val_test_data]\n",
        "print(pred_name)"
      ],
      "metadata": {
        "colab": {
          "base_uri": "https://localhost:8080/"
        },
        "id": "5kTsQeueN7ug",
        "outputId": "24e297a3-0cf6-4371-96b4-6b31800e1a34"
      },
      "execution_count": 50,
      "outputs": [
        {
          "output_type": "stream",
          "name": "stdout",
          "text": [
            "['Colin Powell']\n"
          ]
        }
      ]
    },
    {
      "cell_type": "markdown",
      "source": [
        "Model 3"
      ],
      "metadata": {
        "id": "sgEUKVaJOsws"
      }
    },
    {
      "cell_type": "code",
      "source": [
        "test_data_reshaped_for_predict = np.reshape(test_data, (1,1850))\n",
        "pred_lable_val_test_data = svcClass.predict(test_data_reshaped_for_predict)\n",
        "print(pred_lable_val_test_data)"
      ],
      "metadata": {
        "colab": {
          "base_uri": "https://localhost:8080/"
        },
        "id": "K42-WQfEOALk",
        "outputId": "a0af359a-55d1-46be-a599-f21181c349ab"
      },
      "execution_count": 51,
      "outputs": [
        {
          "output_type": "stream",
          "name": "stdout",
          "text": [
            "[1]\n"
          ]
        }
      ]
    },
    {
      "cell_type": "code",
      "source": [
        "pred_name = lfw_people.target_names[pred_lable_val_test_data]\n",
        "print(pred_name)"
      ],
      "metadata": {
        "colab": {
          "base_uri": "https://localhost:8080/"
        },
        "id": "eOo_02dUODxY",
        "outputId": "9f11a0b5-2be4-4342-ca84-36de36f2df1e"
      },
      "execution_count": 52,
      "outputs": [
        {
          "output_type": "stream",
          "name": "stdout",
          "text": [
            "['Colin Powell']\n"
          ]
        }
      ]
    }
  ]
}
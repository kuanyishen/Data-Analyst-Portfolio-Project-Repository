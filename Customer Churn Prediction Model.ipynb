{
  "cells": [
    {
      "cell_type": "code",
      "source": [
        "import pandas as pd"
      ],
      "metadata": {
        "id": "OSneKGDC0has"
      },
      "id": "OSneKGDC0has",
      "execution_count": 64,
      "outputs": []
    },
    {
      "cell_type": "code",
      "source": [
        "### STEP 1 ###\n",
        "## Build a model for churn prediction"
      ],
      "metadata": {
        "id": "KrV9ngjJ0psw"
      },
      "id": "KrV9ngjJ0psw",
      "execution_count": 65,
      "outputs": []
    },
    {
      "cell_type": "code",
      "execution_count": 66,
      "id": "ba76296f",
      "metadata": {
        "colab": {
          "base_uri": "https://localhost:8080/"
        },
        "id": "ba76296f",
        "outputId": "5ec6741a-0dbe-4614-8459-77c30636e33e"
      },
      "outputs": [
        {
          "output_type": "stream",
          "name": "stdout",
          "text": [
            "Drive already mounted at /content/drive; to attempt to forcibly remount, call drive.mount(\"/content/drive\", force_remount=True).\n",
            "        Row        Id    Surname  Score Nationality  Gender  Age  Tenure  \\\n",
            "0         1  15634602   Hargrave    619      France  Female   42       2   \n",
            "1         2  15647311       Hill    608       Spain  Female   41       1   \n",
            "2         3  15619304       Onio    502      France  Female   42       8   \n",
            "3         4  15701354       Boni    699      France  Female   39       1   \n",
            "4         5  15737888   Mitchell    850       Spain  Female   43       2   \n",
            "...     ...       ...        ...    ...         ...     ...  ...     ...   \n",
            "9995   9996  15606229   Obijiaku    771      France    Male   39       5   \n",
            "9996   9997  15569892  Johnstone    516      France    Male   35      10   \n",
            "9997   9998  15584532        Liu    709      France  Female   36       7   \n",
            "9998   9999  15682355  Sabbatini    772     Germany    Male   42       3   \n",
            "9999  10000  15628319     Walker    792      France  Female   28       4   \n",
            "\n",
            "        Balance  Products  Card  Active     Salary  Exited  \n",
            "0          0.00         1     1       1  101348.88       1  \n",
            "1      83807.86         1     0       1  112542.58       0  \n",
            "2     159660.80         3     1       0  113931.57       1  \n",
            "3          0.00         2     0       0   93826.63       0  \n",
            "4     125510.82         1     1       1   79084.10       0  \n",
            "...         ...       ...   ...     ...        ...     ...  \n",
            "9995       0.00         2     1       0   96270.64       0  \n",
            "9996   57369.61         1     1       1  101699.77       0  \n",
            "9997       0.00         1     0       1   42085.58       1  \n",
            "9998   75075.31         2     1       0   92888.52       1  \n",
            "9999  130142.79         1     1       0   38190.78       0  \n",
            "\n",
            "[10000 rows x 14 columns]\n"
          ]
        }
      ],
      "source": [
        "### STEP 2 ###\n",
        "## Import Data\n",
        "\n",
        "from google.colab import drive\n",
        "drive.mount('/content/drive')\n",
        "df = pd.read_csv ('/content/drive/My Drive/AI/churn_prediction.csv')\n",
        "print (df)"
      ]
    },
    {
      "cell_type": "code",
      "execution_count": 67,
      "id": "27dcd511",
      "metadata": {
        "id": "27dcd511"
      },
      "outputs": [],
      "source": [
        "### STEP 3 ###\n",
        "## Label Data\n",
        "# The data is already labelded in the dataset.\n",
        "# Exited is the lable: Exit = 1 means the customer will leave the membership; Exit = 0 means the customer will stay."
      ]
    },
    {
      "cell_type": "code",
      "execution_count": 68,
      "id": "4bb97d6e",
      "metadata": {
        "colab": {
          "base_uri": "https://localhost:8080/"
        },
        "id": "4bb97d6e",
        "outputId": "0ee044b5-fd88-4b82-a050-a52ba618e589"
      },
      "outputs": [
        {
          "output_type": "stream",
          "name": "stdout",
          "text": [
            "['France' 'Spain' 'Germany']\n",
            "['Female' 'Male']\n"
          ]
        }
      ],
      "source": [
        "### STEP 4 ###\n",
        "## Extract Features\n",
        "# Score(Credit score of the members), France(Nationality=France), Spain(Nationality=Spain), Germany(Nationality=Germany)\n",
        "# Male(Gender=Male), Female(Gender=Female), Age(Age of the members), Tenure(Tenure of the members), \n",
        "# Balance(Total bank balance of the members), Products(Product count bought by members), Card(Credit card ownership count of members), \n",
        "# Active(Active user, or not), Salary(Annual income of the users)\n",
        "\n",
        "#Data exploration#\n",
        "print(df['Nationality'].unique())\n",
        "print(df['Gender'].unique())"
      ]
    },
    {
      "cell_type": "code",
      "execution_count": 69,
      "id": "a3b4f545",
      "metadata": {
        "colab": {
          "base_uri": "https://localhost:8080/"
        },
        "id": "a3b4f545",
        "outputId": "1aa01dce-969a-4c71-9c4a-72c59c876361"
      },
      "outputs": [
        {
          "output_type": "stream",
          "name": "stdout",
          "text": [
            "      Score  Age  Tenure  Products  Card  Active     Salary  Exited  France  \\\n",
            "0       619   42       2         1     1       1  101348.88       1       1   \n",
            "1       608   41       1         1     0       1  112542.58       0       0   \n",
            "2       502   42       8         3     1       0  113931.57       1       1   \n",
            "3       699   39       1         2     0       0   93826.63       0       1   \n",
            "4       850   43       2         1     1       1   79084.10       0       0   \n",
            "...     ...  ...     ...       ...   ...     ...        ...     ...     ...   \n",
            "9995    771   39       5         2     1       0   96270.64       0       1   \n",
            "9996    516   35      10         1     1       1  101699.77       0       1   \n",
            "9997    709   36       7         1     0       1   42085.58       1       1   \n",
            "9998    772   42       3         2     1       0   92888.52       1       0   \n",
            "9999    792   28       4         1     1       0   38190.78       0       1   \n",
            "\n",
            "      Spain  Male  \n",
            "0         0     0  \n",
            "1         1     0  \n",
            "2         0     0  \n",
            "3         0     0  \n",
            "4         1     0  \n",
            "...     ...   ...  \n",
            "9995      0     1  \n",
            "9996      0     1  \n",
            "9997      0     0  \n",
            "9998      0     1  \n",
            "9999      0     0  \n",
            "\n",
            "[10000 rows x 11 columns]\n"
          ]
        }
      ],
      "source": [
        "#Adjust columns#\n",
        "df[\"France\"] = [1 if x == \"France\" else 0 for x in df[\"Nationality\"]]\n",
        "df[\"Spain\"] = [1 if x == \"Spain\" else 0 for x in df[\"Nationality\"]]\n",
        "df[\"Male\"] = [1 if y == \"Male\" else 0 for y in df[\"Gender\"]]\n",
        "df.drop(['Row', 'Id', 'Surname', 'Nationality', 'Gender', 'Balance'], axis=1, inplace=True)\n",
        "print(df)"
      ]
    },
    {
      "cell_type": "code",
      "execution_count": 70,
      "id": "fe40c5f4",
      "metadata": {
        "id": "fe40c5f4"
      },
      "outputs": [],
      "source": [
        "### STEP 5 ###\n",
        "## Decide on ML algorithm: Logistic Regression\n",
        "# This is a binary classification problem. Logistic Regression is suitable for this problem."
      ]
    },
    {
      "cell_type": "code",
      "execution_count": 79,
      "id": "f464766e",
      "metadata": {
        "colab": {
          "base_uri": "https://localhost:8080/"
        },
        "id": "f464766e",
        "outputId": "3cc7e49e-9240-41b7-e193-c4c025100e68"
      },
      "outputs": [
        {
          "output_type": "stream",
          "name": "stdout",
          "text": [
            "      Score  Age  Tenure  Products  Card  Active     Salary  France  Spain  \\\n",
            "3380    604   26       3         2     1       0  155248.62       0      1   \n",
            "2221    767   35       6         1     1       0  115566.57       0      0   \n",
            "551     674   47       6         1     1       1    2079.20       0      0   \n",
            "1961    705   24       5         2     0       0   79886.06       0      1   \n",
            "3566    746   25       3         1     0       0   71911.30       0      1   \n",
            "...     ...  ...     ...       ...   ...     ...        ...     ...    ...   \n",
            "8915    606   36       1         1     1       1  192387.51       1      0   \n",
            "9430    753   33       5         2     1       1   82820.85       1      0   \n",
            "959     629   37       6         1     1       1   23971.33       1      0   \n",
            "7457    665   43       2         4     1       0   35640.12       0      0   \n",
            "9039    545   44       1         2     1       1   82614.89       0      1   \n",
            "\n",
            "      Male  \n",
            "3380     0  \n",
            "2221     0  \n",
            "551      1  \n",
            "1961     0  \n",
            "3566     0  \n",
            "...    ...  \n",
            "8915     1  \n",
            "9430     1  \n",
            "959      0  \n",
            "7457     0  \n",
            "9039     0  \n",
            "\n",
            "[2000 rows x 10 columns]\n",
            "3380    0\n",
            "2221    1\n",
            "551     1\n",
            "1961    0\n",
            "3566    0\n",
            "       ..\n",
            "8915    1\n",
            "9430    0\n",
            "959     0\n",
            "7457    1\n",
            "9039    0\n",
            "Name: Exited, Length: 2000, dtype: int64\n"
          ]
        }
      ],
      "source": [
        "### STEP 6 ###\n",
        "## Train the Model\n",
        "\n",
        "from sklearn.model_selection import train_test_split\n",
        "import statsmodels.api as sm\n",
        "Y = df.Exited\n",
        "X = df.drop(['Exited'], axis=1)\n",
        "X_train, X_test, Y_train, Y_test = train_test_split(X, Y, test_size=0.2)\n",
        "print(X_test)\n",
        "print(Y_test)"
      ]
    },
    {
      "cell_type": "code",
      "source": [
        "#the following code can directly load the training and test data we hand in\n",
        "X_train=pd.read_csv ('X_train.csv')\n",
        "X_train.drop(['Unnamed: 0'], axis=1, inplace=True)\n",
        "X_test=pd.read_csv ('X_test.csv')\n",
        "X_test.drop(['Unnamed: 0'], axis=1, inplace=True)\n",
        "Y_train=pd.read_csv ('Y_train.csv')\n",
        "Y_train.drop(['Unnamed: 0'], axis=1, inplace=True)\n",
        "Y_test=pd.read_csv ('Y_test.csv')\n",
        "Y_test.drop(['Unnamed: 0'], axis=1, inplace=True)\n",
        "print(X_test)\n",
        "print(Y_test)"
      ],
      "metadata": {
        "id": "7KtRub3PwH5v"
      },
      "id": "7KtRub3PwH5v",
      "execution_count": null,
      "outputs": []
    },
    {
      "cell_type": "code",
      "execution_count": 78,
      "id": "1ab04478",
      "metadata": {
        "colab": {
          "base_uri": "https://localhost:8080/"
        },
        "id": "1ab04478",
        "outputId": "f6e7ecf5-4cfd-4821-c778-d2065ab94489"
      },
      "outputs": [
        {
          "output_type": "stream",
          "name": "stdout",
          "text": [
            "Optimization terminated successfully.\n",
            "         Current function value: 0.434936\n",
            "         Iterations 6\n",
            "--- 0.03034377098083496 seconds ---\n"
          ]
        }
      ],
      "source": [
        "import time\n",
        "start_time = time.time()\n",
        "log_reg = sm.Logit(Y_train, X_train).fit()\n",
        "\n",
        "# Report training time\n",
        "print(\"--- %s seconds ---\" % (time.time() - start_time))"
      ]
    },
    {
      "cell_type": "code",
      "execution_count": 73,
      "id": "02189dee",
      "metadata": {
        "colab": {
          "base_uri": "https://localhost:8080/"
        },
        "id": "02189dee",
        "outputId": "03a43bda-dc71-471d-b28c-cd0c7d8ac08f"
      },
      "outputs": [
        {
          "output_type": "stream",
          "name": "stdout",
          "text": [
            "              precision    recall  f1-score   support\n",
            "\n",
            "           0       0.83      0.97      0.89      6391\n",
            "           1       0.61      0.21      0.32      1609\n",
            "\n",
            "    accuracy                           0.81      8000\n",
            "   macro avg       0.72      0.59      0.60      8000\n",
            "weighted avg       0.79      0.81      0.78      8000\n",
            "\n"
          ]
        }
      ],
      "source": [
        "## Accuracy of the model\n",
        "\n",
        "from sklearn.metrics import classification_report\n",
        "yhat1 = log_reg.predict(X_train)\n",
        "Y_pred1 = list(map(round, yhat1))\n",
        "print(classification_report(Y_train, Y_pred1))"
      ]
    },
    {
      "cell_type": "code",
      "execution_count": 74,
      "id": "b6fb6625",
      "metadata": {
        "colab": {
          "base_uri": "https://localhost:8080/"
        },
        "id": "b6fb6625",
        "outputId": "d700e033-6a7d-4b1c-9756-c03dced3e909"
      },
      "outputs": [
        {
          "output_type": "stream",
          "name": "stdout",
          "text": [
            "              precision    recall  f1-score   support\n",
            "\n",
            "           0       0.82      0.96      0.88      1572\n",
            "           1       0.57      0.21      0.31       428\n",
            "\n",
            "    accuracy                           0.80      2000\n",
            "   macro avg       0.70      0.58      0.59      2000\n",
            "weighted avg       0.76      0.80      0.76      2000\n",
            "\n"
          ]
        }
      ],
      "source": [
        "### STEP 7 ###\n",
        "## Predict Test Accuracy\n",
        "\n",
        "yhat2 = log_reg.predict(X_test)\n",
        "Y_pred2 = list(map(round, yhat2))\n",
        "print(classification_report(Y_test, Y_pred2))"
      ]
    },
    {
      "cell_type": "code",
      "source": [
        "# Report probability\n",
        "\n",
        "print(yhat2)"
      ],
      "metadata": {
        "colab": {
          "base_uri": "https://localhost:8080/"
        },
        "id": "v2jSYEpOaUrU",
        "outputId": "b7343460-5c24-4bfe-a0da-6928d94f146d"
      },
      "id": "v2jSYEpOaUrU",
      "execution_count": 75,
      "outputs": [
        {
          "output_type": "stream",
          "name": "stdout",
          "text": [
            "9486    0.033341\n",
            "1499    0.093476\n",
            "411     0.035559\n",
            "3509    0.052351\n",
            "9808    0.299777\n",
            "          ...   \n",
            "2292    0.028342\n",
            "3182    0.167354\n",
            "5904    0.236725\n",
            "6728    0.123445\n",
            "7121    0.139609\n",
            "Length: 2000, dtype: float64\n"
          ]
        }
      ]
    },
    {
      "cell_type": "code",
      "execution_count": 63,
      "id": "bf4acaec",
      "metadata": {
        "id": "bf4acaec"
      },
      "outputs": [],
      "source": [
        "## Save data\n",
        "\n",
        "X_train.to_csv('/content/drive/My Drive/AI/X_train.csv')\n",
        "Y_train.to_csv('/content/drive/My Drive/AI/Y_train.csv')\n",
        "X_test.to_csv('/content/drive/My Drive/AI/X_test.csv')\n",
        "Y_test.to_csv('/content/drive/My Drive/AI/Y_test.csv')"
      ]
    }
  ],
  "metadata": {
    "kernelspec": {
      "display_name": "Python 3",
      "language": "python",
      "name": "python3"
    },
    "language_info": {
      "codemirror_mode": {
        "name": "ipython",
        "version": 3
      },
      "file_extension": ".py",
      "mimetype": "text/x-python",
      "name": "python",
      "nbconvert_exporter": "python",
      "pygments_lexer": "ipython3",
      "version": "3.8.8"
    },
    "colab": {
      "name": "final.ipynb",
      "provenance": []
    }
  },
  "nbformat": 4,
  "nbformat_minor": 5
}
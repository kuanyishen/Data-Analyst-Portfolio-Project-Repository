{
  "nbformat": 4,
  "nbformat_minor": 0,
  "metadata": {
    "colab": {
      "name": "FaceRecognizer.ipynb",
      "provenance": [],
      "collapsed_sections": []
    },
    "kernelspec": {
      "name": "python3",
      "display_name": "Python 3"
    },
    "language_info": {
      "name": "python"
    }
  },
  "cells": [
    {
      "cell_type": "code",
      "execution_count": 1,
      "metadata": {
        "id": "lwsTi6ByUSy0"
      },
      "outputs": [],
      "source": [
        "import numpy as np\n",
        "import pandas as pd\n",
        "import matplotlib.pyplot as plt\n",
        "\n",
        "from sklearn.model_selection import train_test_split\n",
        "from sklearn.linear_model import LogisticRegression\n",
        "\n"
      ]
    },
    {
      "cell_type": "code",
      "source": [
        "from sklearn.datasets import fetch_lfw_people\n",
        "\n",
        "lfw_people = fetch_lfw_people(min_faces_per_person = 70, resize = 0.4)"
      ],
      "metadata": {
        "id": "Px7Z_sKUUzPO"
      },
      "execution_count": 4,
      "outputs": []
    },
    {
      "cell_type": "code",
      "source": [
        "for name in lfw_people.target_names:\n",
        "  print(name)"
      ],
      "metadata": {
        "colab": {
          "base_uri": "https://localhost:8080/"
        },
        "id": "XBRFv6BQVmaR",
        "outputId": "e4f2d55a-9838-48ac-f3cc-695fe91f9de4"
      },
      "execution_count": 6,
      "outputs": [
        {
          "output_type": "stream",
          "name": "stdout",
          "text": [
            "Ariel Sharon\n",
            "Colin Powell\n",
            "Donald Rumsfeld\n",
            "George W Bush\n",
            "Gerhard Schroeder\n",
            "Hugo Chavez\n",
            "Tony Blair\n"
          ]
        }
      ]
    },
    {
      "cell_type": "code",
      "source": [
        "data =lfw_people.data\n",
        "targets =lfw_people.target\n",
        "target_names = lfw_people.target_names\n",
        "print(data[0])\n",
        "print(targets[0])\n",
        "print(target_names[0])"
      ],
      "metadata": {
        "colab": {
          "base_uri": "https://localhost:8080/"
        },
        "id": "c4PjdRzqV-Nf",
        "outputId": "4d6196fe-fc81-496c-ffbe-8e73cd8d3037"
      },
      "execution_count": 9,
      "outputs": [
        {
          "output_type": "stream",
          "name": "stdout",
          "text": [
            "[254.       254.       251.66667  ...  87.333336  88.666664  86.666664]\n",
            "5\n",
            "Ariel Sharon\n"
          ]
        }
      ]
    },
    {
      "cell_type": "code",
      "source": [
        "print(data[0].shape)"
      ],
      "metadata": {
        "colab": {
          "base_uri": "https://localhost:8080/"
        },
        "id": "oGMnbTCiWW8S",
        "outputId": "4de09efc-22c9-487c-b433-36b29e22fcea"
      },
      "execution_count": 8,
      "outputs": [
        {
          "output_type": "stream",
          "name": "stdout",
          "text": [
            "(1850,)\n"
          ]
        }
      ]
    },
    {
      "cell_type": "code",
      "source": [
        "data0_reshaped = np.reshape(data[0], (50, 37))\n",
        "print(data0_reshaped)"
      ],
      "metadata": {
        "colab": {
          "base_uri": "https://localhost:8080/"
        },
        "id": "UpigHz20W4Eq",
        "outputId": "599573e1-f350-43f2-bfc5-7ab30ba8084a"
      },
      "execution_count": 10,
      "outputs": [
        {
          "output_type": "stream",
          "name": "stdout",
          "text": [
            "[[254.       254.       251.66667  ...  65.333336  50.666668  40.333332]\n",
            " [253.33333  251.33333  247.33333  ...  66.666664  52.        42.666668]\n",
            " [240.66667  231.66667  211.66667  ...  62.        49.        42.      ]\n",
            " ...\n",
            " [ 74.333336  54.        31.666666 ...  97.666664  93.        90.      ]\n",
            " [ 65.333336  47.        30.333334 ...  91.666664  92.        86.333336]\n",
            " [ 59.333332  44.333332  32.333332 ...  87.333336  88.666664  86.666664]]\n"
          ]
        }
      ]
    },
    {
      "cell_type": "code",
      "source": [
        "plt.imshow(data0_reshaped, cmap=plt.cm.gray)"
      ],
      "metadata": {
        "colab": {
          "base_uri": "https://localhost:8080/",
          "height": 284
        },
        "id": "jqXl2tAMXFn1",
        "outputId": "f8144018-d81b-40ef-9019-ddc99c73809a"
      },
      "execution_count": 11,
      "outputs": [
        {
          "output_type": "execute_result",
          "data": {
            "text/plain": [
              "<matplotlib.image.AxesImage at 0x7f57e1185290>"
            ]
          },
          "metadata": {},
          "execution_count": 11
        },
        {
          "output_type": "display_data",
          "data": {
            "image/png": "[encoded data removed]",
            "text/plain": [
              "<Figure size 432x288 with 1 Axes>"
            ]
          },
          "metadata": {
            "needs_background": "light"
          }
        }
      ]
    },
    {
      "cell_type": "code",
      "source": [
        "X_train, X_test, Y_train, Y_test = train_test_split(data, targets, test_size=0.2)\n",
        "\n",
        "X_train[0].shape"
      ],
      "metadata": {
        "colab": {
          "base_uri": "https://localhost:8080/"
        },
        "id": "s981TIv9Xor3",
        "outputId": "b7a62394-e37d-4225-9170-3e18abcc0238"
      },
      "execution_count": 25,
      "outputs": [
        {
          "output_type": "execute_result",
          "data": {
            "text/plain": [
              "(1850,)"
            ]
          },
          "metadata": {},
          "execution_count": 25
        }
      ]
    },
    {
      "cell_type": "code",
      "source": [
        ""
      ],
      "metadata": {
        "id": "uq7b_5hzaNXn"
      },
      "execution_count": null,
      "outputs": []
    },
    {
      "cell_type": "code",
      "source": [
        "Y_train[0]"
      ],
      "metadata": {
        "colab": {
          "base_uri": "https://localhost:8080/"
        },
        "id": "bz4Bc0kHYFg4",
        "outputId": "2e8b55dd-3c6c-457c-c575-92f837db1fc8"
      },
      "execution_count": 15,
      "outputs": [
        {
          "output_type": "execute_result",
          "data": {
            "text/plain": [
              "3"
            ]
          },
          "metadata": {},
          "execution_count": 15
        }
      ]
    },
    {
      "cell_type": "code",
      "source": [
        "logisticReg = LogisticRegression()\n",
        "logisticReg.fit(X_train, Y_train)"
      ],
      "metadata": {
        "colab": {
          "base_uri": "https://localhost:8080/"
        },
        "id": "oDQwsh68aOpl",
        "outputId": "024d7f34-8194-4577-c422-47e1dac19dba"
      },
      "execution_count": 26,
      "outputs": [
        {
          "output_type": "stream",
          "name": "stderr",
          "text": [
            "/usr/local/lib/python3.7/dist-packages/sklearn/linear_model/_logistic.py:818: ConvergenceWarning: lbfgs failed to converge (status=1):\n",
            "STOP: TOTAL NO. of ITERATIONS REACHED LIMIT.\n",
            "\n",
            "Increase the number of iterations (max_iter) or scale the data as shown in:\n",
            "    https://scikit-learn.org/stable/modules/preprocessing.html\n",
            "Please also refer to the documentation for alternative solver options:\n",
            "    https://scikit-learn.org/stable/modules/linear_model.html#logistic-regression\n",
            "  extra_warning_msg=_LOGISTIC_SOLVER_CONVERGENCE_MSG,\n"
          ]
        },
        {
          "output_type": "execute_result",
          "data": {
            "text/plain": [
              "LogisticRegression()"
            ]
          },
          "metadata": {},
          "execution_count": 26
        }
      ]
    },
    {
      "cell_type": "code",
      "source": [
        "logisticReg.score(X_test, Y_test)"
      ],
      "metadata": {
        "colab": {
          "base_uri": "https://localhost:8080/"
        },
        "id": "_Kex4f_OaeSP",
        "outputId": "9bdf9627-4a67-4df4-cdc2-e882d67edf5f"
      },
      "execution_count": 27,
      "outputs": [
        {
          "output_type": "execute_result",
          "data": {
            "text/plain": [
              "0.8294573643410853"
            ]
          },
          "metadata": {},
          "execution_count": 27
        }
      ]
    },
    {
      "cell_type": "code",
      "source": [
        "i = 5\n",
        "test_data=X_test[i]\n",
        "print(test_data)\n",
        "test_data_reshaped = np.reshape(test_data, (50, 37))\n",
        "plt.imshow(test_data_reshaped,cmap=plt.cm.gray)"
      ],
      "metadata": {
        "colab": {
          "base_uri": "https://localhost:8080/",
          "height": 302
        },
        "id": "Zv_MUhPqbgl4",
        "outputId": "cd5f7773-a1da-4814-8014-285d263707c3"
      },
      "execution_count": 29,
      "outputs": [
        {
          "output_type": "stream",
          "name": "stdout",
          "text": [
            "[ 77.        78.        83.666664 ... 106.333336  76.        67.      ]\n"
          ]
        },
        {
          "output_type": "execute_result",
          "data": {
            "text/plain": [
              "<matplotlib.image.AxesImage at 0x7f57df59c910>"
            ]
          },
          "metadata": {},
          "execution_count": 29
        },
        {
          "output_type": "display_data",
          "data": {
            "image/png": "[encoded data removed]",
            "text/plain": [
              "<Figure size 432x288 with 1 Axes>"
            ]
          },
          "metadata": {
            "needs_background": "light"
          }
        }
      ]
    },
    {
      "cell_type": "code",
      "source": [
        "test_data_reshaped_for_predict = np.reshape(test_data, (1,1850))\n",
        "pred_lable_val_test_data = logisticReg.predict(test_data_reshaped_for_predict)\n",
        "print(pred_lable_val_test_data)"
      ],
      "metadata": {
        "colab": {
          "base_uri": "https://localhost:8080/"
        },
        "id": "IK8UJr-HcFGU",
        "outputId": "c949138c-6c0c-4cd9-8d41-dba507fa58fd"
      },
      "execution_count": 31,
      "outputs": [
        {
          "output_type": "stream",
          "name": "stdout",
          "text": [
            "[6]\n"
          ]
        }
      ]
    },
    {
      "cell_type": "code",
      "source": [
        "pred_name = lfw_people.target_names[pred_lable_val_test_data]\n",
        "print(pred_name)"
      ],
      "metadata": {
        "colab": {
          "base_uri": "https://localhost:8080/"
        },
        "id": "in1qD1OGch8A",
        "outputId": "4b5f56ae-2b87-4ae3-8407-640e7973b1a8"
      },
      "execution_count": 33,
      "outputs": [
        {
          "output_type": "stream",
          "name": "stdout",
          "text": [
            "['Tony Blair']\n"
          ]
        }
      ]
    },
    {
      "cell_type": "code",
      "source": [
        ""
      ],
      "metadata": {
        "id": "Fa1mGDtDcYqH"
      },
      "execution_count": null,
      "outputs": []
    }
  ]
}